{
 "cells": [
  {
   "cell_type": "markdown",
   "metadata": {},
   "source": [
    "# Prima prova Laboratorio\n",
    "Vogliamo studiare la caratteristica di 2 diodi: 1 diodo al Silicio, 1 diodo al Germanio.\n",
    "\n",
    "Il circuito utilizzato è:\n",
    "\n",
    " (Aggiungere immagine)\n",
    "\n",
    "## Calibrazione oscilloscopio-multimetro\n",
    "Vogliamo fittare il potenziale misurate e il potenziale misurato dal multimetro e quello misurato dall'oscilloscopio e verificare che sia una retta passante\n",
    "per l'origine, cioè voglio $ a \\approx 0 $\n",
    "\n",
    "La Funzione del fit sarà:\n",
    "$$\n",
    "V_{oscilloscopio} = a + b \\cdot V_{multimetro}\n",
    "$$"
   ]
  },
  {
   "cell_type": "code",
   "execution_count": null,
   "metadata": {
    "collapsed": true
   },
   "outputs": [],
   "source": []
  }
 ],
 "metadata": {
  "kernelspec": {
   "display_name": "Python 3 (ipykernel)",
   "language": "python",
   "name": "python3"
  },
  "language_info": {
   "codemirror_mode": {
    "name": "ipython",
    "version": 3
   },
   "file_extension": ".py",
   "mimetype": "text/x-python",
   "name": "python",
   "nbconvert_exporter": "python",
   "pygments_lexer": "ipython3",
   "version": "3.10.0"
  }
 },
 "nbformat": 4,
 "nbformat_minor": 1
}
